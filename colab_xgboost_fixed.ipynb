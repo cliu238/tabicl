{
 "cells": [
  {
   "cell_type": "markdown",
   "metadata": {},
   "source": [
    "# Fixed: XGBoost Domain Analysis for Google Colab\n",
    "\n",
    "This version is specifically configured for Google Colab with proper file paths."
   ]
  },
  {
   "cell_type": "code",
   "execution_count": null,
   "metadata": {},
   "outputs": [],
   "source": [
    "# First, clone the repository if not already done\n",
    "import os\n",
    "\n",
    "# Check if repository exists\n",
    "if not os.path.exists('/content/tabicl'):\n",
    "    !git clone https://github.com/cliu238/tabicl.git\n",
    "    %cd /content/tabicl\n",
    "else:\n",
    "    %cd /content/tabicl\n",
    "\n",
    "# Verify we're in the right directory\n",
    "!pwd\n",
    "!ls -la processed_data/"
   ]
  },
  {
   "cell_type": "code",
   "execution_count": null,
   "metadata": {},
   "outputs": [],
   "source": [
    "# Install required packages\n",
    "!pip install xgboost scikit-learn pandas numpy matplotlib seaborn plotly -q"
   ]
  },
  {
   "cell_type": "code",
   "execution_count": null,
   "metadata": {},
   "outputs": [],
   "source": [
    "# Import libraries\n",
    "import pandas as pd\n",
    "import numpy as np\n",
    "import xgboost as xgb\n",
    "from sklearn.model_selection import train_test_split, StratifiedKFold\n",
    "from sklearn.metrics import accuracy_score, balanced_accuracy_score, f1_score, classification_report\n",
    "from sklearn.preprocessing import LabelEncoder\n",
    "import matplotlib.pyplot as plt\n",
    "import seaborn as sns\n",
    "import plotly.express as px\n",
    "import plotly.graph_objects as go\n",
    "from plotly.subplots import make_subplots\n",
    "import warnings\n",
    "warnings.filterwarnings('ignore')\n",
    "\n",
    "# Set random seed for reproducibility\n",
    "np.random.seed(42)\n",
    "\n",
    "print(\"Libraries imported successfully!\")"
   ]
  },
  {
   "cell_type": "markdown",
   "metadata": {},
   "source": [
    "## Load Data with Correct Path"
   ]
  },
  {
   "cell_type": "code",
   "execution_count": null,
   "metadata": {},
   "outputs": [],
   "source": [
    "# Load the dataset with the correct path\n",
    "# Make sure we're in the tabicl directory\n",
    "import os\n",
    "os.chdir('/content/tabicl')\n",
    "\n",
    "# Now load the data\n",
    "df = pd.read_csv('processed_data/adult_numeric_20250729_155457.csv')\n",
    "\n",
    "print(f\"Dataset shape: {df.shape}\")\n",
    "print(f\"\\nColumn names (first 10): {list(df.columns[:10])}...\")\n",
    "print(f\"\\nSites distribution:\")\n",
    "print(df['site'].value_counts())\n",
    "print(f\"\\nTarget classes: {df['va34'].nunique()} unique classes\")\n",
    "print(f\"Missing values: {df.isnull().sum().sum()}\")\n",
    "\n",
    "# Display first few rows\n",
    "df.head()"
   ]
  },
  {
   "cell_type": "code",
   "execution_count": null,
   "metadata": {},
   "outputs": [],
   "source": [
    "# Data preprocessing\n",
    "# Drop 'cod5' column as specified\n",
    "if 'cod5' in df.columns:\n",
    "    df_clean = df.drop('cod5', axis=1)\n",
    "    print(\"Dropped 'cod5' column\")\n",
    "else:\n",
    "    df_clean = df.copy()\n",
    "    print(\"'cod5' column not found, proceeding with all columns\")\n",
    "\n",
    "# Separate features and target\n",
    "X = df_clean.drop(['va34', 'site'], axis=1)\n",
    "y = df_clean['va34']\n",
    "sites = df_clean['site']\n",
    "\n",
    "print(f\"\\nFeatures shape: {X.shape}\")\n",
    "print(f\"Target shape: {y.shape}\")\n",
    "print(f\"\\nTarget value distribution (top 10):\")\n",
    "print(y.value_counts().head(10))"
   ]
  },
  {
   "cell_type": "markdown",
   "metadata": {},
   "source": [
    "## Continue with the rest of the analysis..."
   ]
  }
 ],
 "metadata": {
  "kernelspec": {
   "display_name": "Python 3",
   "language": "python",
   "name": "python3"
  },
  "language_info": {
   "codemirror_mode": {
    "name": "ipython",
    "version": 3
   },
   "file_extension": ".py",
   "mimetype": "text/x-python",
   "name": "python",
   "nbconvert_exporter": "python",
   "pygments_lexer": "ipython3",
   "version": "3.8.0"
  }
 },
 "nbformat": 4,
 "nbformat_minor": 4
}