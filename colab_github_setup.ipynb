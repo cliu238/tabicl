{
 "cells": [
  {
   "cell_type": "markdown",
   "metadata": {},
   "source": [
    "# GitHub CLI Setup for Google Colab\n",
    "\n",
    "This notebook sets up GitHub CLI authentication in Google Colab and clones your repository."
   ]
  },
  {
   "cell_type": "code",
   "execution_count": null,
   "metadata": {},
   "outputs": [],
   "source": [
    "# Install GitHub CLI in Colab\n",
    "!curl -fsSL https://cli.github.com/packages/githubcli-archive-keyring.gpg | dd of=/usr/share/keyrings/githubcli-archive-keyring.gpg\n",
    "!echo \"deb [arch=$(dpkg --print-architecture) signed-by=/usr/share/keyrings/githubcli-archive-keyring.gpg] https://cli.github.com/packages stable main\" | tee /etc/apt/sources.list.d/github-cli.list > /dev/null\n",
    "!apt update\n",
    "!apt install gh -y"
   ]
  },
  {
   "cell_type": "code",
   "execution_count": null,
   "metadata": {},
   "outputs": [],
   "source": [
    "# Verify gh installation\n",
    "!gh --version"
   ]
  },
  {
   "cell_type": "markdown",
   "metadata": {},
   "source": [
    "## Option 1: Authenticate with GitHub Token (Recommended)\n",
    "\n",
    "1. Go to https://github.com/settings/tokens\n",
    "2. Generate a new token with 'repo' scope\n",
    "3. Copy the token and paste it below"
   ]
  },
  {
   "cell_type": "code",
   "execution_count": null,
   "metadata": {},
   "outputs": [],
   "source": [
    "import getpass\n",
    "import os\n",
    "\n",
    "# Get GitHub token securely\n",
    "github_token = getpass.getpass('Enter your GitHub Personal Access Token: ')\n",
    "\n",
    "# Set up authentication\n",
    "!echo {github_token} | gh auth login --with-token\n",
    "\n",
    "# Verify authentication\n",
    "!gh auth status"
   ]
  },
  {
   "cell_type": "markdown",
   "metadata": {},
   "source": [
    "## Option 2: Authenticate with GitHub via Browser\n",
    "\n",
    "This option opens a browser for authentication."
   ]
  },
  {
   "cell_type": "code",
   "execution_count": null,
   "metadata": {},
   "outputs": [],
   "source": [
    "# Alternative: Browser-based authentication\n",
    "# Note: This may not work in all Colab environments\n",
    "!gh auth login --web"
   ]
  },
  {
   "cell_type": "markdown",
   "metadata": {},
   "source": [
    "## Clone Your Repository"
   ]
  },
  {
   "cell_type": "code",
   "execution_count": null,
   "metadata": {},
   "outputs": [],
   "source": [
    "# Clone your repository\n",
    "!gh repo clone cliu238/tabicl\n",
    "\n",
    "# Change to repository directory\n",
    "%cd tabicl\n",
    "\n",
    "# Check current directory\n",
    "!pwd\n",
    "!ls -la"
   ]
  },
  {
   "cell_type": "markdown",
   "metadata": {},
   "source": [
    "## Configure Git"
   ]
  },
  {
   "cell_type": "code",
   "execution_count": null,
   "metadata": {},
   "outputs": [],
   "source": [
    "# Configure git user (replace with your info)\n",
    "!git config --global user.email \"your-email@example.com\"\n",
    "!git config --global user.name \"Your Name\"\n",
    "\n",
    "# Check git status\n",
    "!git status"
   ]
  },
  {
   "cell_type": "markdown",
   "metadata": {},
   "source": [
    "## Work with Your Repository"
   ]
  },
  {
   "cell_type": "code",
   "execution_count": null,
   "metadata": {},
   "outputs": [],
   "source": [
    "# List files in the repository\n",
    "!ls -la processed_data/"
   ]
  },
  {
   "cell_type": "code",
   "execution_count": null,
   "metadata": {},
   "outputs": [],
   "source": [
    "# Now you can run the XGBoost analysis notebook\n",
    "# The data files are already in the repository\n",
    "import pandas as pd\n",
    "\n",
    "# Load the data\n",
    "df = pd.read_csv('processed_data/adult_numeric_20250729_155457.csv')\n",
    "print(f\"Data loaded successfully! Shape: {df.shape}\")\n",
    "print(f\"Sites: {df['site'].value_counts()}\")"
   ]
  },
  {
   "cell_type": "markdown",
   "metadata": {},
   "source": [
    "## Make Changes and Push to GitHub"
   ]
  },
  {
   "cell_type": "code",
   "execution_count": null,
   "metadata": {},
   "outputs": [],
   "source": [
    "# After making changes, you can commit and push\n",
    "!git add .\n",
    "!git commit -m \"Update from Google Colab\"\n",
    "!git push"
   ]
  },
  {
   "cell_type": "markdown",
   "metadata": {},
   "source": [
    "## Alternative: Mount Google Drive\n",
    "\n",
    "If you prefer to work with Google Drive:"
   ]
  },
  {
   "cell_type": "code",
   "execution_count": null,
   "metadata": {},
   "outputs": [],
   "source": [
    "from google.colab import drive\n",
    "drive.mount('/content/drive')\n",
    "\n",
    "# You can then copy files to/from Drive\n",
    "# !cp -r /content/tabicl /content/drive/MyDrive/"
   ]
  }
 ],
 "metadata": {
  "kernelspec": {
   "display_name": "Python 3",
   "language": "python",
   "name": "python3"
  },
  "language_info": {
   "codemirror_mode": {
    "name": "ipython",
    "version": 3
   },
   "file_extension": ".py",
   "mimetype": "text/x-python",
   "name": "python",
   "nbconvert_exporter": "python",
   "pygments_lexer": "ipython3",
   "version": "3.8.0"
  }
 },
 "nbformat": 4,
 "nbformat_minor": 4
}